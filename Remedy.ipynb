{
  "nbformat": 4,
  "nbformat_minor": 0,
  "metadata": {
    "colab": {
      "provenance": [],
      "machine_shape": "hm",
      "gpuType": "A100"
    },
    "kernelspec": {
      "name": "python3",
      "display_name": "Python 3"
    },
    "language_info": {
      "name": "python"
    },
    "accelerator": "GPU",
    "widgets": {
      "application/vnd.jupyter.widget-state+json": {
        "8c8141939f7644a4bb1395cb5de9ee8d": {
          "model_module": "@jupyter-widgets/controls",
          "model_name": "HBoxModel",
          "model_module_version": "1.5.0",
          "state": {
            "_dom_classes": [],
            "_model_module": "@jupyter-widgets/controls",
            "_model_module_version": "1.5.0",
            "_model_name": "HBoxModel",
            "_view_count": null,
            "_view_module": "@jupyter-widgets/controls",
            "_view_module_version": "1.5.0",
            "_view_name": "HBoxView",
            "box_style": "",
            "children": [
              "IPY_MODEL_ae1e829666c842d0a05f07255fd6cb97",
              "IPY_MODEL_b3d0373fc35e4245833e7a448f35180f",
              "IPY_MODEL_acb3d181f39a41ba95b5df36132ec4c7"
            ],
            "layout": "IPY_MODEL_3a7cbe2aeeec41cb8be6d7ce1467aa37"
          }
        },
        "ae1e829666c842d0a05f07255fd6cb97": {
          "model_module": "@jupyter-widgets/controls",
          "model_name": "HTMLModel",
          "model_module_version": "1.5.0",
          "state": {
            "_dom_classes": [],
            "_model_module": "@jupyter-widgets/controls",
            "_model_module_version": "1.5.0",
            "_model_name": "HTMLModel",
            "_view_count": null,
            "_view_module": "@jupyter-widgets/controls",
            "_view_module_version": "1.5.0",
            "_view_name": "HTMLView",
            "description": "",
            "description_tooltip": null,
            "layout": "IPY_MODEL_6ada0e2e34ca436c9fba5aeac4d42356",
            "placeholder": "​",
            "style": "IPY_MODEL_38ebec6598e64932a04b005de0d2e3cf",
            "value": "Loading checkpoint shards: 100%"
          }
        },
        "b3d0373fc35e4245833e7a448f35180f": {
          "model_module": "@jupyter-widgets/controls",
          "model_name": "FloatProgressModel",
          "model_module_version": "1.5.0",
          "state": {
            "_dom_classes": [],
            "_model_module": "@jupyter-widgets/controls",
            "_model_module_version": "1.5.0",
            "_model_name": "FloatProgressModel",
            "_view_count": null,
            "_view_module": "@jupyter-widgets/controls",
            "_view_module_version": "1.5.0",
            "_view_name": "ProgressView",
            "bar_style": "success",
            "description": "",
            "description_tooltip": null,
            "layout": "IPY_MODEL_7d62829b7c594a74b0656f462a2b7e82",
            "max": 2,
            "min": 0,
            "orientation": "horizontal",
            "style": "IPY_MODEL_eb5e078b7e384b88a2da31990bcf49be",
            "value": 2
          }
        },
        "acb3d181f39a41ba95b5df36132ec4c7": {
          "model_module": "@jupyter-widgets/controls",
          "model_name": "HTMLModel",
          "model_module_version": "1.5.0",
          "state": {
            "_dom_classes": [],
            "_model_module": "@jupyter-widgets/controls",
            "_model_module_version": "1.5.0",
            "_model_name": "HTMLModel",
            "_view_count": null,
            "_view_module": "@jupyter-widgets/controls",
            "_view_module_version": "1.5.0",
            "_view_name": "HTMLView",
            "description": "",
            "description_tooltip": null,
            "layout": "IPY_MODEL_0b7500158b854c67bb094c000c029fa5",
            "placeholder": "​",
            "style": "IPY_MODEL_06beaba424114d72b03719d3da2c31cd",
            "value": " 2/2 [01:44&lt;00:00, 47.90s/it]"
          }
        },
        "3a7cbe2aeeec41cb8be6d7ce1467aa37": {
          "model_module": "@jupyter-widgets/base",
          "model_name": "LayoutModel",
          "model_module_version": "1.2.0",
          "state": {
            "_model_module": "@jupyter-widgets/base",
            "_model_module_version": "1.2.0",
            "_model_name": "LayoutModel",
            "_view_count": null,
            "_view_module": "@jupyter-widgets/base",
            "_view_module_version": "1.2.0",
            "_view_name": "LayoutView",
            "align_content": null,
            "align_items": null,
            "align_self": null,
            "border": null,
            "bottom": null,
            "display": null,
            "flex": null,
            "flex_flow": null,
            "grid_area": null,
            "grid_auto_columns": null,
            "grid_auto_flow": null,
            "grid_auto_rows": null,
            "grid_column": null,
            "grid_gap": null,
            "grid_row": null,
            "grid_template_areas": null,
            "grid_template_columns": null,
            "grid_template_rows": null,
            "height": null,
            "justify_content": null,
            "justify_items": null,
            "left": null,
            "margin": null,
            "max_height": null,
            "max_width": null,
            "min_height": null,
            "min_width": null,
            "object_fit": null,
            "object_position": null,
            "order": null,
            "overflow": null,
            "overflow_x": null,
            "overflow_y": null,
            "padding": null,
            "right": null,
            "top": null,
            "visibility": null,
            "width": null
          }
        },
        "6ada0e2e34ca436c9fba5aeac4d42356": {
          "model_module": "@jupyter-widgets/base",
          "model_name": "LayoutModel",
          "model_module_version": "1.2.0",
          "state": {
            "_model_module": "@jupyter-widgets/base",
            "_model_module_version": "1.2.0",
            "_model_name": "LayoutModel",
            "_view_count": null,
            "_view_module": "@jupyter-widgets/base",
            "_view_module_version": "1.2.0",
            "_view_name": "LayoutView",
            "align_content": null,
            "align_items": null,
            "align_self": null,
            "border": null,
            "bottom": null,
            "display": null,
            "flex": null,
            "flex_flow": null,
            "grid_area": null,
            "grid_auto_columns": null,
            "grid_auto_flow": null,
            "grid_auto_rows": null,
            "grid_column": null,
            "grid_gap": null,
            "grid_row": null,
            "grid_template_areas": null,
            "grid_template_columns": null,
            "grid_template_rows": null,
            "height": null,
            "justify_content": null,
            "justify_items": null,
            "left": null,
            "margin": null,
            "max_height": null,
            "max_width": null,
            "min_height": null,
            "min_width": null,
            "object_fit": null,
            "object_position": null,
            "order": null,
            "overflow": null,
            "overflow_x": null,
            "overflow_y": null,
            "padding": null,
            "right": null,
            "top": null,
            "visibility": null,
            "width": null
          }
        },
        "38ebec6598e64932a04b005de0d2e3cf": {
          "model_module": "@jupyter-widgets/controls",
          "model_name": "DescriptionStyleModel",
          "model_module_version": "1.5.0",
          "state": {
            "_model_module": "@jupyter-widgets/controls",
            "_model_module_version": "1.5.0",
            "_model_name": "DescriptionStyleModel",
            "_view_count": null,
            "_view_module": "@jupyter-widgets/base",
            "_view_module_version": "1.2.0",
            "_view_name": "StyleView",
            "description_width": ""
          }
        },
        "7d62829b7c594a74b0656f462a2b7e82": {
          "model_module": "@jupyter-widgets/base",
          "model_name": "LayoutModel",
          "model_module_version": "1.2.0",
          "state": {
            "_model_module": "@jupyter-widgets/base",
            "_model_module_version": "1.2.0",
            "_model_name": "LayoutModel",
            "_view_count": null,
            "_view_module": "@jupyter-widgets/base",
            "_view_module_version": "1.2.0",
            "_view_name": "LayoutView",
            "align_content": null,
            "align_items": null,
            "align_self": null,
            "border": null,
            "bottom": null,
            "display": null,
            "flex": null,
            "flex_flow": null,
            "grid_area": null,
            "grid_auto_columns": null,
            "grid_auto_flow": null,
            "grid_auto_rows": null,
            "grid_column": null,
            "grid_gap": null,
            "grid_row": null,
            "grid_template_areas": null,
            "grid_template_columns": null,
            "grid_template_rows": null,
            "height": null,
            "justify_content": null,
            "justify_items": null,
            "left": null,
            "margin": null,
            "max_height": null,
            "max_width": null,
            "min_height": null,
            "min_width": null,
            "object_fit": null,
            "object_position": null,
            "order": null,
            "overflow": null,
            "overflow_x": null,
            "overflow_y": null,
            "padding": null,
            "right": null,
            "top": null,
            "visibility": null,
            "width": null
          }
        },
        "eb5e078b7e384b88a2da31990bcf49be": {
          "model_module": "@jupyter-widgets/controls",
          "model_name": "ProgressStyleModel",
          "model_module_version": "1.5.0",
          "state": {
            "_model_module": "@jupyter-widgets/controls",
            "_model_module_version": "1.5.0",
            "_model_name": "ProgressStyleModel",
            "_view_count": null,
            "_view_module": "@jupyter-widgets/base",
            "_view_module_version": "1.2.0",
            "_view_name": "StyleView",
            "bar_color": null,
            "description_width": ""
          }
        },
        "0b7500158b854c67bb094c000c029fa5": {
          "model_module": "@jupyter-widgets/base",
          "model_name": "LayoutModel",
          "model_module_version": "1.2.0",
          "state": {
            "_model_module": "@jupyter-widgets/base",
            "_model_module_version": "1.2.0",
            "_model_name": "LayoutModel",
            "_view_count": null,
            "_view_module": "@jupyter-widgets/base",
            "_view_module_version": "1.2.0",
            "_view_name": "LayoutView",
            "align_content": null,
            "align_items": null,
            "align_self": null,
            "border": null,
            "bottom": null,
            "display": null,
            "flex": null,
            "flex_flow": null,
            "grid_area": null,
            "grid_auto_columns": null,
            "grid_auto_flow": null,
            "grid_auto_rows": null,
            "grid_column": null,
            "grid_gap": null,
            "grid_row": null,
            "grid_template_areas": null,
            "grid_template_columns": null,
            "grid_template_rows": null,
            "height": null,
            "justify_content": null,
            "justify_items": null,
            "left": null,
            "margin": null,
            "max_height": null,
            "max_width": null,
            "min_height": null,
            "min_width": null,
            "object_fit": null,
            "object_position": null,
            "order": null,
            "overflow": null,
            "overflow_x": null,
            "overflow_y": null,
            "padding": null,
            "right": null,
            "top": null,
            "visibility": null,
            "width": null
          }
        },
        "06beaba424114d72b03719d3da2c31cd": {
          "model_module": "@jupyter-widgets/controls",
          "model_name": "DescriptionStyleModel",
          "model_module_version": "1.5.0",
          "state": {
            "_model_module": "@jupyter-widgets/controls",
            "_model_module_version": "1.5.0",
            "_model_name": "DescriptionStyleModel",
            "_view_count": null,
            "_view_module": "@jupyter-widgets/base",
            "_view_module_version": "1.2.0",
            "_view_name": "StyleView",
            "description_width": ""
          }
        }
      }
    }
  },
  "cells": [
    {
      "cell_type": "code",
      "execution_count": 1,
      "metadata": {
        "colab": {
          "base_uri": "https://localhost:8080/",
          "height": 34
        },
        "id": "xsj-MQOPjjcz",
        "outputId": "69f6ee37-d3de-4e26-a3bc-29a8f7580335"
      },
      "outputs": [
        {
          "output_type": "display_data",
          "data": {
            "text/plain": [
              "<IPython.core.display.Javascript object>"
            ],
            "application/javascript": [
              "(async (port, path, text, element) => {\n",
              "    if (!google.colab.kernel.accessAllowed) {\n",
              "      return;\n",
              "    }\n",
              "    element.appendChild(document.createTextNode(''));\n",
              "    const url = await google.colab.kernel.proxyPort(port);\n",
              "    const anchor = document.createElement('a');\n",
              "    anchor.href = new URL(path, url).toString();\n",
              "    anchor.target = '_blank';\n",
              "    anchor.setAttribute('data-href', url + path);\n",
              "    anchor.textContent = text;\n",
              "    element.appendChild(anchor);\n",
              "  })(5000, \"/\", \"https://localhost:5000/\", window.element)"
            ]
          },
          "metadata": {}
        }
      ],
      "source": [
        "from google.colab import output\n",
        "output.serve_kernel_port_as_window(5000)"
      ]
    },
    {
      "cell_type": "code",
      "source": [
        "import torch\n",
        "torch.cuda.empty_cache()"
      ],
      "metadata": {
        "id": "sWmy7mKXy30J"
      },
      "execution_count": 2,
      "outputs": []
    },
    {
      "cell_type": "code",
      "source": [
        "from transformers import pipeline\n",
        "\n",
        "pipe = pipeline(\"text-generation\",\n",
        "                model=\"/content/drive/MyDrive/LLama2-WebUI-main/model\",\n",
        "                max_length=256,\n",
        "                min_new_tokens=1,\n",
        "                num_beams=3,\n",
        "                repetition_penalty=1.2,\n",
        "                early_stopping=True,\n",
        "                eos_token_id=198,\n",
        "                temperature=0.9,\n",
        "                device = 0)"
      ],
      "metadata": {
        "colab": {
          "base_uri": "https://localhost:8080/",
          "height": 49,
          "referenced_widgets": [
            "8c8141939f7644a4bb1395cb5de9ee8d",
            "ae1e829666c842d0a05f07255fd6cb97",
            "b3d0373fc35e4245833e7a448f35180f",
            "acb3d181f39a41ba95b5df36132ec4c7",
            "3a7cbe2aeeec41cb8be6d7ce1467aa37",
            "6ada0e2e34ca436c9fba5aeac4d42356",
            "38ebec6598e64932a04b005de0d2e3cf",
            "7d62829b7c594a74b0656f462a2b7e82",
            "eb5e078b7e384b88a2da31990bcf49be",
            "0b7500158b854c67bb094c000c029fa5",
            "06beaba424114d72b03719d3da2c31cd"
          ]
        },
        "id": "FNF_wffxt8Jx",
        "outputId": "d95bdf31-1855-47e5-b86b-cd8caff048ba"
      },
      "execution_count": 3,
      "outputs": [
        {
          "output_type": "display_data",
          "data": {
            "text/plain": [
              "Loading checkpoint shards:   0%|          | 0/2 [00:00<?, ?it/s]"
            ],
            "application/vnd.jupyter.widget-view+json": {
              "version_major": 2,
              "version_minor": 0,
              "model_id": "8c8141939f7644a4bb1395cb5de9ee8d"
            }
          },
          "metadata": {}
        }
      ]
    },
    {
      "cell_type": "code",
      "source": [
        "from flask import Flask, jsonify, render_template, request\n",
        "import os\n",
        "import re\n",
        "\n",
        "app = Flask(__name__, template_folder='drive/MyDrive/LLama2-WebUI-main/templates', static_folder='drive/MyDrive/LLama2-WebUI-main/static')\n",
        "\n",
        "@app.route('/', methods=['GET', 'POST'])\n",
        "def sessions():\n",
        "    return render_template('session.html')\n",
        "\n",
        "@app.route('/process', methods=['POST'])\n",
        "def process():\n",
        "    data = request.get_json() # retrieve the data sent from JavaScript\n",
        "    question = data['value']\n",
        "    print(question)\n",
        "    answer = pipe(f\"{question}\")[0]['generated_text']\n",
        "    answer = re.sub(re.compile(r'[^.!?]*\\?'), '', answer)\n",
        "    print(answer)\n",
        "    return jsonify(result=answer) # return the result to JavaScript\n",
        "\n",
        "if __name__ == '__main__':\n",
        "    app.run(debug=False, port = '5000')\n",
        "\n"
      ],
      "metadata": {
        "colab": {
          "base_uri": "https://localhost:8080/"
        },
        "id": "TmONVZqtaH2K",
        "outputId": "57c7a3ec-1eb0-4c77-8d54-917b3f45f3b4"
      },
      "execution_count": null,
      "outputs": [
        {
          "output_type": "stream",
          "name": "stdout",
          "text": [
            " * Serving Flask app '__main__'\n",
            " * Debug mode: off\n"
          ]
        },
        {
          "output_type": "stream",
          "name": "stderr",
          "text": [
            "INFO:werkzeug:\u001b[31m\u001b[1mWARNING: This is a development server. Do not use it in a production deployment. Use a production WSGI server instead.\u001b[0m\n",
            " * Running on http://127.0.0.1:5000\n",
            "INFO:werkzeug:\u001b[33mPress CTRL+C to quit\u001b[0m\n",
            "INFO:werkzeug:127.0.0.1 - - [18/Feb/2024 12:29:36] \"GET / HTTP/1.1\" 200 -\n",
            "INFO:werkzeug:127.0.0.1 - - [18/Feb/2024 12:29:37] \"\u001b[33mGET /static/scripts/jquery.scrollex.js HTTP/1.1\u001b[0m\" 404 -\n",
            "INFO:werkzeug:127.0.0.1 - - [18/Feb/2024 12:29:38] \"GET /static/scripts/browser.min.js HTTP/1.1\" 200 -\n",
            "INFO:werkzeug:127.0.0.1 - - [18/Feb/2024 12:29:38] \"GET /static/scripts/main.js HTTP/1.1\" 200 -\n",
            "INFO:werkzeug:127.0.0.1 - - [18/Feb/2024 12:29:38] \"GET /static/styles/main.css HTTP/1.1\" 200 -\n",
            "INFO:werkzeug:127.0.0.1 - - [18/Feb/2024 12:29:39] \"GET /static/scripts/util.js HTTP/1.1\" 200 -\n",
            "INFO:werkzeug:127.0.0.1 - - [18/Feb/2024 12:29:39] \"GET /static/scripts/breakpoints.min.js HTTP/1.1\" 200 -\n",
            "INFO:werkzeug:127.0.0.1 - - [18/Feb/2024 12:29:39] \"GET /static/scripts/jquery.min.js HTTP/1.1\" 200 -\n",
            "INFO:werkzeug:127.0.0.1 - - [18/Feb/2024 12:29:40] \"GET /static/styles/fontawesome-all.min.css HTTP/1.1\" 200 -\n",
            "INFO:werkzeug:127.0.0.1 - - [18/Feb/2024 12:29:41] \"GET /static/styles/images/overlay.png HTTP/1.1\" 200 -\n",
            "INFO:werkzeug:127.0.0.1 - - [18/Feb/2024 12:29:41] \"\u001b[33mGET /favicon.ico HTTP/1.1\u001b[0m\" 404 -\n"
          ]
        },
        {
          "output_type": "stream",
          "name": "stdout",
          "text": [
            "Who is at risk for oxygen therapy?\n"
          ]
        },
        {
          "output_type": "stream",
          "name": "stderr",
          "text": [
            "/usr/local/lib/python3.10/dist-packages/transformers/generation/configuration_utils.py:381: UserWarning: `do_sample` is set to `False`. However, `temperature` is set to `0.9` -- this flag is only used in sample-based generation modes. You should set `do_sample=True` or unset `temperature`.\n",
            "  warnings.warn(\n",
            "INFO:werkzeug:127.0.0.1 - - [18/Feb/2024 12:31:55] \"POST /process HTTP/1.1\" 200 -\n"
          ]
        },
        {
          "output_type": "stream",
          "name": "stdout",
          "text": [
            "\n",
            "Oxygen therapy is used to treat people who have low oxygen levels in their blood (hypoxemia). Hypoxemia can be caused by a variety of conditions, including:\n",
            "Lung diseases, such as chronic obstructive pulmonary disease (COPD) and pulmonary fibrosis\n",
            "Heart diseases, such as congestive heart failure (CHF) and coronary artery disease (CAD)\n",
            "Respiratory infections, such as pneumonia and bronchitis\n",
            "Other conditions that can cause hypoxemia include anemia, sleep apnea, and high altitude sickness.\n",
            "Oxygen therapy is also used to prevent hypoxemia in people who are at risk for developing it, such as those with COPD or CHF.\n",
            "There are many benefits of oxygen therapy, including:\n",
            "Improved oxygen levels in the blood: Oxygen therapy can help to improve oxygen levels in the blood, which can improve overall health and well-being.\n",
            "Reduced symptoms: Oxygen therapy can\n",
            "How can I treat my diabetes? \n"
          ]
        },
        {
          "output_type": "stream",
          "name": "stderr",
          "text": [
            "INFO:werkzeug:127.0.0.1 - - [18/Feb/2024 12:32:28] \"POST /process HTTP/1.1\" 200 -\n"
          ]
        },
        {
          "output_type": "stream",
          "name": "stdout",
          "text": [
            " 2016.\n",
            "Diabetes and Your Heart. American Heart Association website. Available at: http://www.heart.org/HEARTORG/Conditions/Diabetes/PreventionTreatmentofDiabetes/Diabetes-and-Your-Heart_UCM_301120_Article.jsp#.WbV45PnFzIU. Accessed September 19, 2017.\n",
            "Diabetes and Heart Disease. National Heart, Lung, and Blood Institute website. Available at: http://www.nhlbi.nih.gov/health/health-topics/topics/db/heart. Accessed September 19, 2017.\n",
            "Diabetes and Heart Disease. National Institute of Diabetes and Digestive and Kidney Diseases website. Available at: http://www.niddk.nih.gov/health-information/health-topics/diabetes/diabetes-heart-disease/Pages/diabetes-\n"
          ]
        },
        {
          "output_type": "stream",
          "name": "stderr",
          "text": [
            "INFO:werkzeug:127.0.0.1 - - [18/Feb/2024 12:32:56] \"GET / HTTP/1.1\" 200 -\n",
            "INFO:werkzeug:127.0.0.1 - - [18/Feb/2024 12:32:56] \"GET /static/scripts/util.js HTTP/1.1\" 200 -\n",
            "INFO:werkzeug:127.0.0.1 - - [18/Feb/2024 12:32:57] \"GET /static/scripts/jquery.min.js HTTP/1.1\" 200 -\n",
            "INFO:werkzeug:127.0.0.1 - - [18/Feb/2024 12:32:57] \"GET /static/styles/main.css HTTP/1.1\" 200 -\n",
            "INFO:werkzeug:127.0.0.1 - - [18/Feb/2024 12:32:57] \"GET /static/scripts/breakpoints.min.js HTTP/1.1\" 200 -\n",
            "INFO:werkzeug:127.0.0.1 - - [18/Feb/2024 12:32:57] \"GET /static/scripts/main.js HTTP/1.1\" 200 -\n",
            "INFO:werkzeug:127.0.0.1 - - [18/Feb/2024 12:32:57] \"\u001b[33mGET /static/scripts/jquery.scrollex.js HTTP/1.1\u001b[0m\" 404 -\n",
            "INFO:werkzeug:127.0.0.1 - - [18/Feb/2024 12:32:57] \"GET /static/scripts/browser.min.js HTTP/1.1\" 200 -\n",
            "INFO:werkzeug:127.0.0.1 - - [18/Feb/2024 12:32:58] \"GET /static/styles/fontawesome-all.min.css HTTP/1.1\" 200 -\n",
            "INFO:werkzeug:127.0.0.1 - - [18/Feb/2024 12:32:58] \"GET /static/styles/images/overlay.png HTTP/1.1\" 200 -\n",
            "INFO:werkzeug:127.0.0.1 - - [18/Feb/2024 12:32:59] \"\u001b[33mGET /favicon.ico HTTP/1.1\u001b[0m\" 404 -\n"
          ]
        },
        {
          "output_type": "stream",
          "name": "stdout",
          "text": [
            "Who is at risk for oxygen therapy?\n"
          ]
        },
        {
          "output_type": "stream",
          "name": "stderr",
          "text": [
            "INFO:werkzeug:127.0.0.1 - - [18/Feb/2024 12:41:37] \"POST /process HTTP/1.1\" 200 -\n"
          ]
        },
        {
          "output_type": "stream",
          "name": "stdout",
          "text": [
            "\n",
            "Oxygen therapy is used to treat people who have low oxygen levels in their blood (hypoxemia). Hypoxemia can be caused by a variety of conditions, including:\n",
            "Lung diseases, such as chronic obstructive pulmonary disease (COPD) and pulmonary fibrosis\n",
            "Heart diseases, such as congestive heart failure (CHF) and coronary artery disease (CAD)\n",
            "Respiratory infections, such as pneumonia and bronchitis\n",
            "Other conditions that can cause hypoxemia include anemia, sleep apnea, and high altitude sickness.\n",
            "Oxygen therapy is also used to prevent hypoxemia in people who are at risk for developing it, such as those with COPD or CHF.\n",
            "There are many benefits of oxygen therapy, including:\n",
            "Improved oxygen levels in the blood: Oxygen therapy can help to improve oxygen levels in the blood, which can improve overall health and well-being.\n",
            "Reduced symptoms: Oxygen therapy can\n",
            "What are some common symptoms of the flu?\n"
          ]
        },
        {
          "output_type": "stream",
          "name": "stderr",
          "text": [
            "INFO:werkzeug:127.0.0.1 - - [18/Feb/2024 12:42:01] \"POST /process HTTP/1.1\" 200 -\n"
          ]
        },
        {
          "output_type": "stream",
          "name": "stdout",
          "text": [
            "\n",
            "The flu is a contagious respiratory illness caused by influenza viruses that infect the nose, throat, and lungs. It can cause mild to severe illness, and at times can lead to death. Some people, such as older people, young children, and people with certain health conditions, are at high risk for serious flu complications. The best way to prevent the flu is by getting a flu vaccine each year.\n",
            "The flu is different from a cold. Colds are usually milder than the flu. People with colds are more likely to have a runny or stuffy nose. Colds generally do not result in serious health problems, such as pneumonia, bacterial infections, or hospitalizations. Flu symptoms in children may include fever, runny nose, sore throat, cough, headache, vomiting, and feeling very tired. Flu symptoms in adults may include fever, cough, sore throat, runny or stuffy nose, body aches, headache, chills, and fatigue. Some people may have vomiting and diarrhea\n",
            "How can I treat diabetes \n"
          ]
        },
        {
          "output_type": "stream",
          "name": "stderr",
          "text": [
            "INFO:werkzeug:127.0.0.1 - - [18/Feb/2024 12:42:36] \"POST /process HTTP/1.1\" 200 -\n"
          ]
        },
        {
          "output_type": "stream",
          "name": "stdout",
          "text": [
            "\n",
            "Diabetes mellitus type 2 is a chronic metabolic disorder characterized by hyperglycemia resulting from defects in insulin secretion, insulin action, or both. The chronic hyperglycemia of type 2 diabetes is associated with long-term damage, dysfunction, and failure of various organs, especially the eyes, kidneys, nerves, heart, and blood vessels. Approximately 90% to 95% of people with diabetes have type 2 diabetes. Type 2 diabetes has a strong genetic basis, but obesity, physical inactivity, family history of diabetes, age, race, and ethnicity also contribute to the risk of developing type 2 diabetes. Type 2 diabetes can be prevented by maintaining a normal body weight, participating in regular physical activity, and following a healthy diet. Treatment of type 2 diabetes includes lifestyle changes, oral medications, and/or insulin therapy.\n",
            "Diabetes mellitus type \n",
            "what do i need to know about crones disease?\n"
          ]
        },
        {
          "output_type": "stream",
          "name": "stderr",
          "text": [
            "INFO:werkzeug:127.0.0.1 - - [18/Feb/2024 12:43:13] \"POST /process HTTP/1.1\" 200 -\n"
          ]
        },
        {
          "output_type": "stream",
          "name": "stdout",
          "text": [
            "\n",
            "Crones disease is a condition that affects the bones and joints. It can cause pain, stiffness, and swelling in the joints. Crones disease is most common in women over the age of 50. There is no cure for crones disease, but there are treatments that can help relieve symptoms.\n",
            "The symptoms of crones disease can vary depending on the severity of the condition. Some people may only experience mild symptoms, while others may have more severe symptoms. The most common symptoms of crones disease include joint pain, stiffness, and swelling. Other symptoms may include fatigue, muscle weakness, and difficulty walking.\n",
            "Crones disease is a condition that affects the bones and joints. It is caused by a buildup of calcium deposits in the joints, which can lead to pain and stiffness. Crones disease is most common in women over the age of 50, but it can occur in men as well. There is no known\n"
          ]
        }
      ]
    }
  ]
}